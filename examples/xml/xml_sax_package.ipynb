{
 "metadata": {
  "language_info": {
   "codemirror_mode": {
    "name": "ipython",
    "version": 3
   },
   "file_extension": ".py",
   "mimetype": "text/x-python",
   "name": "python",
   "nbconvert_exporter": "python",
   "pygments_lexer": "ipython3",
   "version": 3
  },
  "orig_nbformat": 2
 },
 "nbformat": 4,
 "nbformat_minor": 2,
 "cells": [
  {
   "cell_type": "code",
   "execution_count": null,
   "metadata": {},
   "outputs": [],
   "source": [
    "class GroupHandler(xml.sax.ContentHandler):\n",
    "    def startElement(self, name, attrs):\n",
    "        self.current = name\n",
    "        if self.current == 'person':\n",
    "            print('------PERSON------')\n",
    "            print('ID: {}'.format(attrs['id']))\n",
    "\n",
    "    def characters(self, content):\n",
    "        if self.current == 'name':\n",
    "            self.name = content\n",
    "        elif self.current == 'age':\n",
    "            self.age = content\n",
    "        elif self.current == 'weight':\n",
    "            self.weight = content\n",
    "        elif self.current == 'height':\n",
    "            self.height = content\n",
    "\n",
    "    def endElement(self, name):\n",
    "        if self.current == 'name':\n",
    "            print('Name: {}'.format(self.name))\n",
    "        elif self.current == 'age':\n",
    "            print('Age: {}'.format(self.age))\n",
    "        elif self.current == 'weight':\n",
    "            print('Weight: {}'.format(self.weight))\n",
    "        elif self.current == 'height':\n",
    "            print('Height: {}'.format(self.height))\n",
    "        self.current = ''\n",
    "\n",
    "handler = GroupHandler()\n",
    "parser = xml.sax.make_parser()\n",
    "parser.setContentHandler(handler)\n",
    "parser.parse('data.xml')\n"
   ]
  }
 ]
}