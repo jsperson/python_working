{
 "metadata": {
  "language_info": {
   "codemirror_mode": {
    "name": "ipython",
    "version": 3
   },
   "file_extension": ".py",
   "mimetype": "text/x-python",
   "name": "python",
   "nbconvert_exporter": "python",
   "pygments_lexer": "ipython3",
   "version": "3.8.5"
  },
  "orig_nbformat": 2,
  "kernelspec": {
   "name": "python385jvsc74a57bd0b3ba2566441a7c06988d0923437866b63cedc61552a5af99d1f4fb67d367b25f",
   "display_name": "Python 3.8.5 64-bit (conda)"
  }
 },
 "nbformat": 4,
 "nbformat_minor": 2,
 "cells": [
  {
   "cell_type": "code",
   "execution_count": 1,
   "metadata": {},
   "outputs": [],
   "source": [
    "import xml.dom.minidom"
   ]
  },
  {
   "cell_type": "code",
   "execution_count": 2,
   "metadata": {},
   "outputs": [],
   "source": [
    "domtree = xml.dom.minidom.parse('data.xml')"
   ]
  },
  {
   "cell_type": "code",
   "execution_count": 3,
   "metadata": {},
   "outputs": [],
   "source": [
    "group = domtree.documentElement"
   ]
  },
  {
   "cell_type": "code",
   "execution_count": 5,
   "metadata": {},
   "outputs": [],
   "source": [
    "persons = group.getElementsByTagName('person')"
   ]
  },
  {
   "cell_type": "code",
   "execution_count": 9,
   "metadata": {},
   "outputs": [
    {
     "output_type": "stream",
     "name": "stdout",
     "text": [
      "------PERSON------\nID: 1\nName: Mike Smith\nAge: 34\nWeight: 90\nHeight: 175\n------PERSON------\nID: 2\nName: Jim Smith\nAge: 35\nWeight: 91\nHeight: 176\n------PERSON------\nID: 3\nName: Don Smith\nAge: 36\nWeight: 92\nHeight: 177\n"
     ]
    }
   ],
   "source": [
    "for person in persons:\n",
    "    print('------PERSON------')\n",
    "    if person.hasAttribute('id'):\n",
    "        print('ID: {}'.format(person.getAttribute('id')))\n",
    "        print('Name: {}'.format(person.getElementsByTagName('name')[0].childNodes[0].data))\n",
    "        print('Age: {}'.format(person.getElementsByTagName('age')[0].childNodes[0].data))\n",
    "        print('Weight: {}'.format(person.getElementsByTagName('weight')[0].childNodes[0].data))\n",
    "        print('Height: {}'.format(person.getElementsByTagName('height')[0].childNodes[0].data))"
   ]
  },
  {
   "cell_type": "code",
   "execution_count": 10,
   "metadata": {},
   "outputs": [],
   "source": [
    "# Change name\n",
    "persons[2].getElementsByTagName('name')[0].childNodes[0].nodeValue = 'New Name'\n",
    "# Change ID\n",
    "persons[0].setAttribute('id','100')\n",
    "# Change Age\n",
    "persons[1].getElementsByTagName('age')[0].childNodes[0].nodeValue = '-10'\n",
    "domtree.writexml(open('data2.xml','w')) # write it out to the file"
   ]
  },
  {
   "cell_type": "code",
   "execution_count": 12,
   "metadata": {},
   "outputs": [],
   "source": [
    "# add elements\n",
    "newperson = domtree.createElement('person')\n",
    "newperson.setAttribute('id', '4')\n",
    "\n",
    "name = domtree.createElement('name')\n",
    "name.appendChild(domtree.createTextNode('Paul Green'))\n",
    "\n",
    "age = domtree.createElement('age')\n",
    "age.appendChild(domtree.createTextNode('49')) \n",
    "\n",
    "weight = domtree.createElement('weight')\n",
    "weight.appendChild(domtree.createTextNode('100'))\n",
    "\n",
    "height = domtree.createElement('height')\n",
    "height.appendChild(domtree.createTextNode('170'))\n",
    "\n",
    "newperson.appendChild(name)\n",
    "newperson.appendChild(age)\n",
    "newperson.appendChild(weight)\n",
    "newperson.appendChild(height)\n",
    "\n",
    "group.appendChild(newperson)\n",
    "\n",
    "domtree.writexml(open('data3.xml','w'))"
   ]
  },
  {
   "cell_type": "code",
   "execution_count": null,
   "metadata": {},
   "outputs": [],
   "source": []
  }
 ]
}