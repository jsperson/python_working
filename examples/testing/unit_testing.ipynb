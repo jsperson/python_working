{
 "metadata": {
  "language_info": {
   "codemirror_mode": {
    "name": "ipython",
    "version": 3
   },
   "file_extension": ".py",
   "mimetype": "text/x-python",
   "name": "python",
   "nbconvert_exporter": "python",
   "pygments_lexer": "ipython3",
   "version": "3.8.8"
  },
  "orig_nbformat": 2,
  "kernelspec": {
   "name": "python388jvsc74a57bd026ef992314b042a7168442b82fe7af449e838d4c6cf98d5dbf0e1de284b8c800",
   "display_name": "Python 3.8.8 64-bit ('scott2': conda)"
  }
 },
 "nbformat": 4,
 "nbformat_minor": 2,
 "cells": [
  {
   "source": [
    "Test frameworks:\n",
    "* unittest - in python standard library\n",
    "* nose - not in the standard library but simpler tests\n",
    "* pytest - not in the standard library but very popular\n",
    "\n"
   ],
   "cell_type": "markdown",
   "metadata": {}
  },
  {
   "source": [
    "Pytest\n",
    "* Name .py file as test_<file to be tested>\n",
    "* Import file to be tested\n",
    "* Define assert functions\n",
    "\n",
    "Run pytest <test_<py to be tested>.py\n",
    "* -v for verbose output example: pytest test_math_fun.py -v\n",
    "\n",
    "Use pytest to run all tests\n",
    "* From directory with test .py files, just run py.test.\n"
   ],
   "cell_type": "code",
   "metadata": {},
   "execution_count": null,
   "outputs": []
  },
  {
   "source": [
    "To run only one test, put test name after two colons: pytest test_math_func.py::test_add -v\n",
    "\n",
    "Switches\n",
    "* -v - verbose\n",
    "* -k - allows running test whose name includes a string example: pytest -v -k \"add\"; pytest -v -k \"add or string\"; pytest -v -k \"add and string\"\n",
    "* -m - allows specifying markers to select tests (seems to pop a lot of warnings); see example for the marker decorator and skip examples\n",
    "* -x - stops on first failure\n",
    "* --tb=no - removes stack trace from failed results\n",
    "* --maxfail=2 - exits after max number of failures\n",
    "* -r show extra test summary info as specified by chars (f)ailed, (E)rror, (s)kipped, (x)failed, (X)passed. So -rsx will show reason for failure or skipped.\n",
    "* -s shows print output or --capture=no\n",
    "* -q - quiet mode\n",
    "* --disasble-warnings - disable the warnings. this will get rid of the markers warning\n"
   ],
   "cell_type": "code",
   "metadata": {},
   "execution_count": null,
   "outputs": []
  },
  {
   "cell_type": "code",
   "execution_count": null,
   "metadata": {},
   "outputs": [],
   "source": []
  }
 ]
}