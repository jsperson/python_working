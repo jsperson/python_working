{
 "metadata": {
  "language_info": {
   "codemirror_mode": {
    "name": "ipython",
    "version": 3
   },
   "file_extension": ".py",
   "mimetype": "text/x-python",
   "name": "python",
   "nbconvert_exporter": "python",
   "pygments_lexer": "ipython3",
   "version": "3.8.5"
  },
  "orig_nbformat": 2,
  "kernelspec": {
   "name": "python385jvsc74a57bd0b3ba2566441a7c06988d0923437866b63cedc61552a5af99d1f4fb67d367b25f",
   "display_name": "Python 3.8.5 64-bit (conda)"
  }
 },
 "nbformat": 4,
 "nbformat_minor": 2,
 "cells": [
  {
   "cell_type": "code",
   "execution_count": 2,
   "metadata": {},
   "outputs": [],
   "source": [
    "import json\n",
    "from urllib.request import urlopen\n",
    "\n",
    "with urlopen(\"http://httpbin.org/get\") as response:\n",
    "    source = response.read()\n",
    "\n",
    "data = json.loads(source)\n"
   ]
  },
  {
   "cell_type": "code",
   "execution_count": 4,
   "metadata": {},
   "outputs": [
    {
     "output_type": "stream",
     "name": "stdout",
     "text": [
      "{\n  \"args\": {},\n  \"headers\": {\n    \"Accept-Encoding\": \"identity\",\n    \"Host\": \"httpbin.org\",\n    \"User-Agent\": \"Python-urllib/3.8\",\n    \"X-Amzn-Trace-Id\": \"Root=1-608af81a-0ec3193761b7d7720e0b1b2b\"\n  },\n  \"origin\": \"97.112.81.103\",\n  \"url\": \"http://httpbin.org/get\"\n}\n"
     ]
    }
   ],
   "source": [
    "print(json.dumps(data,indent=2))"
   ]
  },
  {
   "cell_type": "code",
   "execution_count": 10,
   "metadata": {},
   "outputs": [
    {
     "output_type": "stream",
     "name": "stdout",
     "text": [
      "11\n"
     ]
    }
   ],
   "source": [
    "print(len(data['headers']['Host']))"
   ]
  },
  {
   "cell_type": "code",
   "execution_count": 13,
   "metadata": {},
   "outputs": [
    {
     "output_type": "stream",
     "name": "stdout",
     "text": [
      "httpbin.org\n"
     ]
    }
   ],
   "source": [
    "for item in data['headers']:\n",
    "    host = data['headers']['Host']\n",
    "print(host)"
   ]
  },
  {
   "cell_type": "code",
   "execution_count": null,
   "metadata": {},
   "outputs": [],
   "source": [
    "\n",
    "# print(json.dumps(data, indent=2))\n",
    "\n",
    "usd_rates = dict()\n",
    "\n",
    "for item in data['list']['resources']:\n",
    "    name = item['resource']['fields']['name']\n",
    "    price = item['resource']['fields']['price']\n",
    "    usd_rates[name] = price\n",
    "\n",
    "print(50 * float(usd_rates['USD/INR']))"
   ]
  }
 ]
}