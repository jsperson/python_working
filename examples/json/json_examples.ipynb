{
 "metadata": {
  "language_info": {
   "codemirror_mode": {
    "name": "ipython",
    "version": 3
   },
   "file_extension": ".py",
   "mimetype": "text/x-python",
   "name": "python",
   "nbconvert_exporter": "python",
   "pygments_lexer": "ipython3",
   "version": "3.8.5"
  },
  "orig_nbformat": 2,
  "kernelspec": {
   "name": "python385jvsc74a57bd0b3ba2566441a7c06988d0923437866b63cedc61552a5af99d1f4fb67d367b25f",
   "display_name": "Python 3.8.5 64-bit (conda)"
  }
 },
 "nbformat": 4,
 "nbformat_minor": 2,
 "cells": [
  {
   "cell_type": "code",
   "execution_count": 2,
   "metadata": {},
   "outputs": [
    {
     "output_type": "stream",
     "name": "stdout",
     "text": [
      "{'people': [{'name': 'John Smith', 'phone': '615-555-7164', 'emails': ['johnsmith@bosuc.com', 'john.smith@work.com'], 'has_licesnse': False}, {'name': 'Jane Smith', 'phone': '615-555-7165', 'emails': None, 'has_licesnse': True}]}\n"
     ]
    }
   ],
   "source": [
    "import json\n",
    "people_string = '''\n",
    "{\n",
    "    \"people\":[\n",
    "        {\n",
    "            \"name\": \"John Smith\",\n",
    "            \"phone\": \"615-555-7164\",\n",
    "            \"emails\": [\"johnsmith@bosuc.com\", \"john.smith@work.com\"],\n",
    "            \"has_licesnse\": false\n",
    "        },\n",
    "        {\n",
    "            \"name\": \"Jane Smith\",\n",
    "            \"phone\": \"615-555-7165\",\n",
    "            \"emails\": null,\n",
    "            \"has_licesnse\": true\n",
    "        }\n",
    "    ]\n",
    "}\n",
    "'''\n",
    "\n",
    "data = json.loads(people_string)\n",
    "print(data)"
   ]
  },
  {
   "cell_type": "code",
   "execution_count": 3,
   "metadata": {},
   "outputs": [
    {
     "output_type": "stream",
     "name": "stdout",
     "text": [
      "<class 'dict'>\n"
     ]
    }
   ],
   "source": [
    "print(type(data))"
   ]
  },
  {
   "cell_type": "code",
   "execution_count": 4,
   "metadata": {},
   "outputs": [
    {
     "output_type": "stream",
     "name": "stdout",
     "text": [
      "<class 'list'>\n"
     ]
    }
   ],
   "source": [
    "print(type(data['people']))"
   ]
  },
  {
   "cell_type": "code",
   "execution_count": 5,
   "metadata": {},
   "outputs": [
    {
     "output_type": "stream",
     "name": "stdout",
     "text": [
      "{'name': 'John Smith', 'phone': '615-555-7164', 'emails': ['johnsmith@bosuc.com', 'john.smith@work.com'], 'has_licesnse': False}\n{'name': 'Jane Smith', 'phone': '615-555-7165', 'emails': None, 'has_licesnse': True}\n"
     ]
    }
   ],
   "source": [
    "for person in data['people']:\n",
    "    print(person)"
   ]
  },
  {
   "cell_type": "code",
   "execution_count": 6,
   "metadata": {},
   "outputs": [
    {
     "output_type": "stream",
     "name": "stdout",
     "text": [
      "John Smith\nJane Smith\n"
     ]
    }
   ],
   "source": [
    "for person in data['people']:\n",
    "    print(person['name'])"
   ]
  },
  {
   "cell_type": "code",
   "execution_count": 7,
   "metadata": {},
   "outputs": [],
   "source": [
    "#remove phone numbers and convert back to json\n",
    "for person in data['people']:\n",
    "    del person['phone']"
   ]
  },
  {
   "cell_type": "code",
   "execution_count": 9,
   "metadata": {},
   "outputs": [
    {
     "output_type": "stream",
     "name": "stdout",
     "text": [
      "{\"people\": [{\"name\": \"John Smith\", \"emails\": [\"johnsmith@bosuc.com\", \"john.smith@work.com\"], \"has_licesnse\": false}, {\"name\": \"Jane Smith\", \"emails\": null, \"has_licesnse\": true}]}\n"
     ]
    }
   ],
   "source": [
    "new_string = json.dumps(data)\n",
    "print(new_string) #no longer contains phone numbers"
   ]
  },
  {
   "cell_type": "code",
   "execution_count": 11,
   "metadata": {},
   "outputs": [
    {
     "output_type": "stream",
     "name": "stdout",
     "text": [
      "{\n  \"people\": [\n    {\n      \"name\": \"John Smith\",\n      \"emails\": [\n        \"johnsmith@bosuc.com\",\n        \"john.smith@work.com\"\n      ],\n      \"has_licesnse\": false\n    },\n    {\n      \"name\": \"Jane Smith\",\n      \"emails\": null,\n      \"has_licesnse\": true\n    }\n  ]\n}\n"
     ]
    }
   ],
   "source": [
    "new_string = json.dumps(data, indent=2) #indent to make more readable\n",
    "print(new_string) #no longer contains phone numbers"
   ]
  },
  {
   "cell_type": "code",
   "execution_count": 12,
   "metadata": {},
   "outputs": [
    {
     "output_type": "stream",
     "name": "stdout",
     "text": [
      "{\n  \"people\": [\n    {\n      \"emails\": [\n        \"johnsmith@bosuc.com\",\n        \"john.smith@work.com\"\n      ],\n      \"has_licesnse\": false,\n      \"name\": \"John Smith\"\n    },\n    {\n      \"emails\": null,\n      \"has_licesnse\": true,\n      \"name\": \"Jane Smith\"\n    }\n  ]\n}\n"
     ]
    }
   ],
   "source": [
    "new_string = json.dumps(data, indent=2, sort_keys=True) #sort the keys\n",
    "print(new_string) #no longer contains phone numbers"
   ]
  },
  {
   "cell_type": "code",
   "execution_count": null,
   "metadata": {},
   "outputs": [],
   "source": []
  }
 ]
}